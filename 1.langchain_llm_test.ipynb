{
 "cells": [
  {
   "cell_type": "code",
   "execution_count": 1,
   "metadata": {},
   "outputs": [
    {
     "data": {
      "text/plain": [
       "True"
      ]
     },
     "execution_count": 1,
     "metadata": {},
     "output_type": "execute_result"
    }
   ],
   "source": [
    "from dotenv import load_dotenv\n",
    "\n",
    "load_dotenv()"
   ]
  },
  {
   "cell_type": "code",
   "execution_count": 10,
   "metadata": {},
   "outputs": [],
   "source": [
    "from dotenv import load_dotenv\n",
    "from langchain_openai import ChatOpenAI\n",
    "\n",
    "load_dotenv()\n",
    "llm = ChatOpenAI(model='gpt-4-turbo')\n",
    "\n",
    "query = \"연봉 5천만원인 직장인의 소득세는 얼마인가요?\"\n",
    "\n",
    "prompt = f\"\"\"[Identifier]\n",
    "- 당신은 최고의 한국 소득세 전문가 입니다.\n",
    "\n",
    "Question: {query}\n",
    "\"\"\"\n",
    "\n",
    "ai_message = llm.invoke(prompt)"
   ]
  },
  {
   "cell_type": "code",
   "execution_count": 11,
   "metadata": {},
   "outputs": [
    {
     "name": "stdout",
     "output_type": "stream",
     "text": [
      "연봉 5천만원인 직장인의 소득세를 계산하기 위해서는 몇 가지 고려해야 할 사항이 있습니다. 소득세는 근로소득 외에도 다양한 공제 사항이 적용되며, 이를 통해 과세 표준이 결정된 후 해당 과세 표준에 따라 세율이 적용됩니다.\n",
      "\n",
      "1. **근로소득 공제**: 연봉에서 근로소득 공제가 이루어지며, 이는 연봉의 크기에 따라 달라집니다. \n",
      "2. **기본공제**: 본인 및 부양가족에 대한 기본공제가 있습니다.\n",
      "3. **특별공제**: 연금저축 공제, 보험료 공제 등 다양한 특별공제가 있습니다.\n",
      "\n",
      "2023년 기준으로, 연봉 5천만원의 경우 대략적인 계산은 다음과 같습니다:\n",
      "\n",
      "- **근로소득공제**: 연봉 5천만원에 대해 최대 1,800만원까지 근로소득 공제가 가능합니다.\n",
      "- **과세표준 계산**: 연봉 5천만원에서 근로소득공제를 빼면 3,200만원의 과세표준이 나옵니다.\n",
      "- **산출세액 계산**: 과세표준이 3,200만원일 경우, 세율은 15% (120만원을 뺀 금액의 6%를 더함)가 적용되어 산출세액은 360만원 + (3,200만원 - 1,200만원) * 6% = 480만원이 됩니다.\n",
      "- **근로소득세액공제**: 산출세액에서 일정 비율을 공제받을 수 있습니다.\n",
      "  \n",
      "이러한 계산은 매우 기본적인 계산이며, 실제 세금 계산은 다양한 공제 사항과 개인의 상황에 따라 달라질 수 있습니다. 따라서 정확한 세금 계산을 위해서는 세무 전문가의 상담이 필요하거나, 국세청 홈택스 서비스를 이용하여 정확한 계산을 하는 것이 좋습니다.\n"
     ]
    }
   ],
   "source": [
    "print(ai_message.content)"
   ]
  },
  {
   "cell_type": "markdown",
   "metadata": {},
   "source": [
    "연봉 5천만원인 직장인의 소득세를 계산하기 위해서는 몇 가지 고려해야 할 사항이 있습니다. 소득세는 근로소득 외에도 다양한 공제 사항이 적용되며, 이를 통해 과세 표준이 결정된 후 해당 과세 표준에 따라 세율이 적용됩니다.\n",
    "\n",
    "1. **근로소득 공제**: 연봉에서 근로소득 공제가 이루어지며, 이는 연봉의 크기에 따라 달라집니다. \n",
    "2. **기본공제**: 본인 및 부양가족에 대한 기본공제가 있습니다.\n",
    "3. **특별공제**: 연금저축 공제, 보험료 공제 등 다양한 특별공제가 있습니다.\n",
    "\n",
    "2023년 기준으로, 연봉 5천만원의 경우 대략적인 계산은 다음과 같습니다:\n",
    "\n",
    "- **근로소득공제**: 연봉 5천만원에 대해 최대 1,800만원까지 근로소득 공제가 가능합니다.\n",
    "- **과세표준 계산**: 연봉 5천만원에서 근로소득공제를 빼면 3,200만원의 과세표준이 나옵니다.\n",
    "- **산출세액 계산**: 과세표준이 3,200만원일 경우, 세율은 15% (120만원을 뺀 금액의 6%를 더함)가 적용되어 산출세액은 360만원 + (3,200만원 - 1,200만원) * 6% = 480만원이 됩니다.\n",
    "- **근로소득세액공제**: 산출세액에서 일정 비율을 공제받을 수 있습니다.\n",
    "  \n",
    "이러한 계산은 매우 기본적인 계산이며, 실제 세금 계산은 다양한 공제 사항과 개인의 상황에 따라 달라질 수 있습니다. 따라서 정확한 세금 계산을 위해서는 세무 전문가의 상담이 필요하거나, 국세청 홈택스 서비스를 이용하여 정확한 계산을 하는 것이 좋습니다."
   ]
  }
 ],
 "metadata": {
  "kernelspec": {
   "display_name": ".venv",
   "language": "python",
   "name": "python3"
  },
  "language_info": {
   "codemirror_mode": {
    "name": "ipython",
    "version": 3
   },
   "file_extension": ".py",
   "mimetype": "text/x-python",
   "name": "python",
   "nbconvert_exporter": "python",
   "pygments_lexer": "ipython3",
   "version": "3.10.12"
  }
 },
 "nbformat": 4,
 "nbformat_minor": 2
}
